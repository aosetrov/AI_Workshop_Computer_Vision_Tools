{
 "cells": [
  {
   "cell_type": "code",
   "execution_count": 1,
   "metadata": {
    "pycharm": {
     "is_executing": false,
     "name": "#%% Importing libs \n"
    }
   },
   "outputs": [
    {
     "name": "stderr",
     "output_type": "stream",
     "text": [
      "Using TensorFlow backend.\n"
     ]
    }
   ],
   "source": [
    "# // Follows example on: https://github.com/arunponnusamy/cvlib/blob/master/examples/gender_detection_webcam.py\n",
    "\n",
    "import cvlib as cv\n",
    "import cv2\n",
    "import numpy as np\n"
   ]
  },
  {
   "cell_type": "code",
   "execution_count": 2,
   "metadata": {
    "pycharm": {
     "is_executing": false,
     "name": "#%%  # Open webcam and check if it's opened\n"
    }
   },
   "outputs": [
    {
     "name": "stdout",
     "output_type": "stream",
     "text": [
      "True\n"
     ]
    }
   ],
   "source": [
    "web = cv2.VideoCapture(0)\n",
    "print(web.isOpened())"
   ]
  },
  {
   "cell_type": "code",
   "execution_count": 3,
   "metadata": {
    "pycharm": {
     "is_executing": false,
     "name": "#%% Start infinite loop of obtaining frames from the webcam\n"
    }
   },
   "outputs": [
    {
     "name": "stdout",
     "output_type": "stream",
     "text": [
      "[INFO] initializing ... \n"
     ]
    }
   ],
   "source": [
    "while web.isOpened():\n",
    "\n",
    "    # read frame from webcam \n",
    "    status, frame = web.read()\n",
    "\n",
    "    if not status:\n",
    "        print(\"Could not read frame\")\n",
    "        exit()\n",
    "\n",
    "    # apply face detection\n",
    "    face, _ = cv.detect_face(frame)\n",
    "\n",
    "    # loop through detected faces\n",
    "    for idx, f in enumerate(face):\n",
    "\n",
    "        # draw rectangle over face\n",
    "        cv2.rectangle(frame, (f[0], f[1]), (f[2], f[3]), (0,255,0), 2)\n",
    "        \n",
    "        face_crop = np.copy(frame[max(0, f[1]-20):min(frame.shape[0]-1, f[3]+20), \n",
    "                            max(0, f[0]-20):min(frame.shape[1]-1, f[2]+20)])\n",
    "        if min(face_crop.shape[:2]) == 0:  # Prevent crash of zero area resize\n",
    "            continue\n",
    "            \n",
    "        # apply gender detection    \n",
    "        label, conf = cv.detect_gender(face_crop)\n",
    "\n",
    "        idx_label = np.argmax(conf)\n",
    "        label = label[idx_label]\n",
    "\n",
    "        text = \"{}: {:.2f}%\".format(label, conf[idx_label] * 100)\n",
    "\n",
    "        Y = f[1] - 10 if f[1] - 10 > 10 else f[1] + 10\n",
    "\n",
    "        # write confidence percentage on top of face rectangle\n",
    "        cv2.putText(frame, text, (f[0],Y), cv2.FONT_HERSHEY_SIMPLEX, 0.7,\n",
    "                    (0,255,0), 2)\n",
    "\n",
    "    # display output\n",
    "    cv2.imshow(\"Real-time faces detection\", frame)\n",
    "\n",
    "    # press \"Q\" to stop\n",
    "    if cv2.waitKey(1) & 0xFF == ord('q'):\n",
    "        cv2.destroyAllWindows()\n",
    "        web.release()\n",
    "        break\n",
    "\n"
   ]
  }
 ],
 "metadata": {
  "kernelspec": {
   "display_name": "Python 3",
   "language": "python",
   "name": "python3"
  },
  "language_info": {
   "codemirror_mode": {
    "name": "ipython",
    "version": 3
   },
   "file_extension": ".py",
   "mimetype": "text/x-python",
   "name": "python",
   "nbconvert_exporter": "python",
   "pygments_lexer": "ipython3",
   "version": "3.6.9"
  },
  "pycharm": {
   "stem_cell": {
    "cell_type": "raw",
    "metadata": {
     "collapsed": false
    },
    "source": []
   }
  }
 },
 "nbformat": 4,
 "nbformat_minor": 1
}
